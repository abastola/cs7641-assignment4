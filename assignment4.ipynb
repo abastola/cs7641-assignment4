{
  "nbformat": 4,
  "nbformat_minor": 0,
  "metadata": {
    "colab": {
      "name": "assignment4.ipynb",
      "provenance": [],
      "collapsed_sections": []
    },
    "kernelspec": {
      "name": "python3",
      "display_name": "Python 3"
    },
    "language_info": {
      "name": "python"
    }
  },
  "cells": [
    {
      "cell_type": "code",
      "metadata": {
        "id": "xyOpX7NxKTr4"
      },
      "source": [
        "!pip install mdptoolbox-hiive gym"
      ],
      "execution_count": null,
      "outputs": []
    },
    {
      "cell_type": "code",
      "metadata": {
        "id": "hgcjK7ER5pFO"
      },
      "source": [
        "import numpy \n",
        "import time \n",
        "import gym\n",
        "import matplotlib.pyplot as plt\n",
        "import numpy.random as rnd\n",
        "import numpy as np\n",
        "import pandas as pd\n"
      ],
      "execution_count": 1,
      "outputs": []
    },
    {
      "cell_type": "code",
      "metadata": {
        "id": "r3AeNZb1pPr1"
      },
      "source": [
        "# borrowed from https://github.com/okazkayasi/CS7641/blob/master/mkazkayasi3_Assignment4/VI_PI_FrozenLake.ipynb\n",
        "# Just for plotting as this was very neat\n",
        "\n",
        "from gym.envs.toy_text.frozen_lake import generate_random_map, FrozenLakeEnv\n",
        "np.random.seed(44)\n",
        "sixteen = generate_random_map(16)\n",
        "np.random.seed(44)\n",
        "tvelve = generate_random_map(12)\n",
        "MAPS = {\n",
        "    \"4x4\": [\n",
        "        \"SFFF\",\n",
        "        \"FHFH\",\n",
        "        \"FFFH\",\n",
        "        \"HFFG\"\n",
        "    ],\n",
        "    \"8x8\": [\n",
        "        \"SFFFFFFF\",\n",
        "        \"FFFFFFFF\",\n",
        "        \"FFFHFFFF\",\n",
        "        \"FFFFFHFF\",\n",
        "        \"FFFHFFFF\",\n",
        "        \"FHHFFFHF\",\n",
        "        \"FHFFHFHF\",\n",
        "        \"FFFHFFFG\"\n",
        "    ],\n",
        "    \"12x12\": tvelve,\n",
        "    \"16x16\": sixteen\n",
        "}\n",
        "\n",
        "def map_discretize(the_map):\n",
        "    size = len(the_map)\n",
        "    dis_map = np.zeros((size,size))\n",
        "    for i, row in enumerate(the_map):\n",
        "        for j, loc in enumerate(row):\n",
        "            if loc == \"S\":\n",
        "                dis_map[i, j] = 0\n",
        "            elif loc == \"F\":\n",
        "                dis_map[i, j] = 0\n",
        "            elif loc == \"H\":\n",
        "                dis_map[i, j] = -1\n",
        "            elif loc == \"G\":\n",
        "                dis_map[i, j] = 1\n",
        "    return dis_map\n",
        "\n",
        "\n",
        "def policy_numpy(policy):\n",
        "    size = int(np.sqrt(len(policy)))\n",
        "    pol = np.asarray(policy)\n",
        "    pol = pol.reshape((size, size))\n",
        "    return pol\n",
        "\n",
        "\n",
        "def see_policy(map_size, policy):\n",
        "    map_name = str(map_size)+\"x\"+str(map_size)\n",
        "    data = map_discretize(MAPS[map_name])\n",
        "    np_pol = policy_numpy(policy)\n",
        "    plt.imshow(data, interpolation=\"nearest\")\n",
        "\n",
        "    for i in range(np_pol[0].size):\n",
        "        for j in range(np_pol[0].size):\n",
        "            arrow = '\\u2190'\n",
        "            if np_pol[i, j] == 1:\n",
        "                arrow = '\\u2193'\n",
        "            elif np_pol[i, j] == 2:\n",
        "                arrow = '\\u2192'\n",
        "            elif np_pol[i, j] == 3:\n",
        "                arrow = '\\u2191'\n",
        "            text = plt.text(j, i, arrow,\n",
        "                           ha=\"center\", va=\"center\", color=\"w\")\n",
        "    plt.show()"
      ],
      "execution_count": 2,
      "outputs": []
    },
    {
      "cell_type": "code",
      "metadata": {
        "id": "4ss3fvCl-VPG"
      },
      "source": [
        "#Adapted from https://github.com/danpisq/Value-and-Policy-iteration-OpenAI-FrozenLake/blob/master/value_iteration.py\n",
        "\n",
        "def print_policy(V, width=8, height=8):\n",
        "    table = {0: \"←\", 1: \"↓\", 2: \"→\", 3: \"↑\"}\n",
        "    policy = numpy.resize(V, (width, height))\n",
        "    \n",
        "    # transform using the dictionary\n",
        "    return numpy.vectorize(table.get)(policy)"
      ],
      "execution_count": 3,
      "outputs": []
    },
    {
      "cell_type": "code",
      "metadata": {
        "id": "5MHpatnA9RkR"
      },
      "source": [
        "def execute(env, policy, gamma=1.0, render=False):\n",
        "  start = env.reset()\n",
        "  totalReward = 0\n",
        "  stepIndex = 0\n",
        "  while True:\n",
        "    if render:\n",
        "      env.render()\n",
        "    start, reward, done,_ = env.step(int(policy[start]))\n",
        "    totalReward += (gamma ** stepIndex * reward)\n",
        "    stepIndex += 1\n",
        "    if done:\n",
        "      break\n",
        "  return totalReward\n",
        "    \n",
        "#Evaluation\n",
        "def evaluatePolicy(env, policy, gamma=1.0, n=20):\n",
        "  scores = [execute(env, policy, gamma, False) for _ in range(n)]\n",
        "  #return numpy.mean(scores), scores, sum([x==1.0 for x in scores])\n",
        "  return numpy.mean(scores)"
      ],
      "execution_count": 4,
      "outputs": []
    },
    {
      "cell_type": "code",
      "metadata": {
        "id": "1vH6kx2m9MS3"
      },
      "source": [
        "#Value Iteration Algorithm\n",
        "def valueIteration(env, gamma=1.0, eps=0):\n",
        "  value = numpy.zeros(env.env.nS)\n",
        "  max_iterations = 10000\n",
        "  r_v = []\n",
        "\n",
        "  for i in range(max_iterations):\n",
        "    prev_v = numpy.copy(value)\n",
        "    for s in range(env.env.nS):\n",
        "      q_sa = [sum([p * (r + prev_v[s_]) for p, s_, r, _ in env.env.P[s][a]]) for a in range(env.env.nA)]\n",
        "      value[s] = max(q_sa)\n",
        "    r_v.append((i+1, numpy.sum(value)-numpy.sum(prev_v)))\n",
        "    if (numpy.sum(numpy.fabs(prev_v - value)) <= eps):\n",
        "      converged_at = i+1\n",
        "      break\n",
        "  return value, i+1, r_v\n",
        "\n"
      ],
      "execution_count": 5,
      "outputs": []
    },
    {
      "cell_type": "code",
      "metadata": {
        "id": "oFUyuTq29MzT"
      },
      "source": [
        "#choosing a policy given a value-function\n",
        "def calculatePolicy(v, gamma=1.0):\n",
        "  policy = numpy.zeros(env.env.nS)\n",
        "  for s in range(env.env.nS):\n",
        "    q_sa = numpy.zeros(env.action_space.n)\n",
        "    for a in range(env.action_space.n):\n",
        "      for next_sr in env.env.P[s][a]:\n",
        "        p, s_, r, _ = next_sr\n",
        "        q_sa[a] += (p * (r + gamma * v[s_]))\n",
        "    policy[s] = numpy.argmax(q_sa)\n",
        "  return policy\n",
        "  "
      ],
      "execution_count": 6,
      "outputs": []
    },
    {
      "cell_type": "code",
      "metadata": {
        "colab": {
          "base_uri": "https://localhost:8080/",
          "height": 386
        },
        "id": "I7--_XxZyirc",
        "outputId": "ee91e7d5-159f-43cd-a279-293cf5d780e9"
      },
      "source": [
        "gamma = 0.99\n",
        "env = gym.make('FrozenLake-v0')\n",
        "optimalValue, c, r_v = valueIteration(env,gamma, eps=0.001)\n",
        "print(r_v)\n",
        "print(\"epsilon: 0.1\")\n",
        "print(\"converged at: \", c)\n",
        "startTime = time.time()\n",
        "vi_policy = calculatePolicy(optimalValue, gamma)\n",
        "endTime = time.time()\n",
        "policy_score = evaluatePolicy(env, vi_policy, gamma, 1000)\n",
        "\n",
        "print(\"Best score = %0.2f. Time taken = %4.4f seconds\" % (numpy.max(policy_score), endTime-startTime))\n",
        "print(\"time taken: \", endTime-startTime )\n",
        "plt.title(\"Delta vs Number of Iterations at eps=0.001\")\n",
        "\n",
        "\n",
        "plt.plot(*zip(*r_v))\n",
        "plt.show()\n"
      ],
      "execution_count": 20,
      "outputs": [
        {
          "output_type": "stream",
          "text": [
            "[(1, 0.3333333333333333), (2, 0.3333333333333334), (3, 0.29629629629629617), (4, 0.2716049382716049), (5, 0.251028806584362), (6, 0.23319615912208502), (7, 0.21810699588477367), (8, 0.20454199055022082), (9, 0.19250114311842692), (10, 0.18144253077952177), (11, 0.17132663832861983), (12, 0.16209513379660212), (13, 0.1541343880756907), (14, 0.14692024974445772), (15, 0.1408981882731557), (16, 0.13571674832096914), (17, 0.13099157231201586), (18, 0.12663375942411736), (19, 0.12256479118050301), (20, 0.11872880608312641), (21, 0.115085036579333), (22, 0.1116015346720669), (23, 0.10825578745039177), (24, 0.10503028813700421), (25, 0.10191259982801526), (26, 0.09889314937769456), (27, 0.09596498157852285), (28, 0.09312270080056706), (29, 0.09036222274800121), (30, 0.08768026544684915), (31, 0.0850741776532935), (32, 0.08254169469030526), (33, 0.08008083799076715), (34, 0.0776898004472022), (35, 0.07536689430476429), (36, 0.0731105000597223), (37, 0.07091904290444706), (38, 0.06914823922683233), (39, 0.06839218835008332), (40, 0.06786376616356371), (41, 0.06714086732555025), (42, 0.06635275535034957), (43, 0.06550655334148558), (44, 0.06461928476958967), (45, 0.06369837731508099), (46, 0.06275031922688168), (47, 0.06177955505274646), (48, 0.0607901921550793), (49, 0.059785637390066704), (50, 0.05876910199555052), (51, 0.05774344773181994), (52, 0.056711351243921015), (53, 0.05567524650813205), (54, 0.054637383861141586), (55, 0.05359981349217513), (56, 0.0525644113225292), (57, 0.05153287900972359), (58, 0.05050675919246839), (59, 0.04948744172135733), (60, 0.04847617519904013), (61, 0.047474075200604204), (62, 0.046482134154115506), (63, 0.045501229805611665), (64, 0.044532133997047474), (65, 0.043575520661496725), (66, 0.04263197363834781), (67, 0.04170199392305385), (68, 0.04078600656794862), (69, 0.03988436710597476), (70, 0.03899736758315964), (71, 0.03812524216596813), (72, 0.03726817236594737), (73, 0.03642629188251689), (74, 0.0355996910918952), (75, 0.03478842119554493), (76, 0.03399249805083748), (77, 0.03321190570129051), (78, 0.03244659962649443), (79, 0.03169650972951654), (80, 0.030961543080011644), (81, 0.0302415864298613), (82, 0.029536508517779225), (83, 0.028846162178148838), (84, 0.028170386268781655), (85, 0.027509007431180343), (86, 0.026861841696215194), (87, 0.026228695947187575), (88, 0.02560936925149626), (89, 0.025003654071350745), (90, 0.02441133736323131), (91, 0.023832201575079814), (92, 0.023266025549609104), (93, 0.022712585341420954), (94, 0.022171654955094766), (95, 0.0216430070108391), (96, 0.021126413343804273), (97, 0.02062164554265955), (98, 0.02012847543262275), (99, 0.019646675507694056), (100, 0.019176019316486048), (101, 0.01871628180566809), (102, 0.01826723962477672), (103, 0.01782867139570321), (104, 0.01740035795009831), (105, 0.016982082537472465), (106, 0.016573631006670198), (107, 0.01617479196311855), (108, 0.015785356904059356), (109, 0.015405120333809919), (110, 0.015033879860890664), (111, 0.014671436278709038), (112, 0.01431759363143037), (113, 0.013972159266323558), (114, 0.01363494387405062), (115, 0.013305761517932169), (116, 0.01298442965342872), (117, 0.01267076913867271), (118, 0.01236460423713659), (119, 0.012065762613092446), (120, 0.011774075320751365), (121, 0.011489376787718442), (122, 0.01121150479338695), (123, 0.01094030044287031), (124, 0.010675608136965664), (125, 0.010417275538666004), (126, 0.010165153536613403), (127, 0.009919096205900146), (128, 0.0096789607665837), (129, 0.009444607540244121), (130, 0.00921589990484506), (131, 0.008992704248207417), (132, 0.00877488992030706), (133, 0.008562329184650608), (134, 0.008354897168850073), (135, 0.008152471814705464), (136, 0.007954933827784672), (137, 0.007762166626827494), (138, 0.00757405629295782), (139, 0.007390491518890485), (140, 0.007211363558226935), (141, 0.007036566174942749), (142, 0.006865995593107854), (143, 0.0066995504469620215), (144, 0.0065371317313953625), (145, 0.0063786427528675915), (146, 0.006223989080853087), (147, 0.006073078499829521), (148, 0.005925820961872219), (149, 0.0057821285398471645), (150, 0.005641915381289664), (151, 0.005505097662931391), (152, 0.005371593545943298), (153, 0.005241323131897957), (154, 0.005114208419421118), (155, 0.004990173261655073), (156, 0.004869143324382819), (157, 0.004751046044971119), (158, 0.004635810592025891), (159, 0.0045233678258558285), (160, 0.004413650259621704), (161, 0.004306592021313449), (162, 0.0042021288164306725), (163, 0.004100197891443003), (164, 0.00400073799796985), (165, 0.003903689357713347), (166, 0.0038089936281249237), (167, 0.0037165938687753197), (168, 0.0036264345084617844), (169, 0.003538461313004504), (170, 0.0034526213537500183), (171, 0.0033688629767478773), (172, 0.003287135772627181), (173, 0.0032073905470983988), (174, 0.003129579292163953), (175, 0.0030536551579221083), (176, 0.002979572425038768), (177, 0.0029072864778179053), (178, 0.002836753777902601), (179, 0.0027679318385587237), (180, 0.002700779199557246), (181, 0.0026352554026374264), (182, 0.00257132096749757), (183, 0.0025089373684217264), (184, 0.00244806701133804), (185, 0.0023886732115236953), (186, 0.002330720171739742), (187, 0.002274172960930798), (188, 0.0022189974933954915), (189, 0.0021651605084631598), (190, 0.0021126295506412873), (191, 0.00206137295022657), (192, 0.002011359804384938), (193, 0.00196255995867034), (194, 0.0019149439889787345), (195, 0.001868483183940839), (196, 0.0018231495277252208), (197, 0.0017789156832606068), (198, 0.0017357549758312274), (199, 0.0016936413771055925), (200, 0.001652549489499222), (201, 0.0016124545309530447), (202, 0.0015733323200493032), (203, 0.001535159261495167), (204, 0.001497912331942075), (205, 0.0014615690661674563), (206, 0.001426107543561983), (207, 0.0013915063749649903), (208, 0.0013577446897876655), (209, 0.0013248021234861795), (210, 0.0012926588052888377), (211, 0.0012612953462642906), (212, 0.0012306928276348827), (213, 0.001200832789406192), (214, 0.0011716972192488129), (215, 0.0011432685416679078), (216, 0.0011155296073965815), (217, 0.0010884636830965633), (218, 0.0010620544412667243), (219, 0.0010362859504162714), (220, 0.001011142665463538), (221, 0.0009866094183692553)]\n",
            "epsilon: 0.1\n",
            "converged at:  221\n",
            "Best score = 0.53. Time taken = 0.0010 seconds\n",
            "time taken:  0.0009944438934326172\n"
          ],
          "name": "stdout"
        },
        {
          "output_type": "display_data",
          "data": {
            "image/png": "[encoded data removed]",
            "text/plain": [
              "<Figure size 432x288 with 1 Axes>"
            ]
          },
          "metadata": {
            "tags": [],
            "needs_background": "light"
          }
        }
      ]
    },
    {
      "cell_type": "code",
      "metadata": {
        "colab": {
          "base_uri": "https://localhost:8080/",
          "height": 386
        },
        "id": "8zip7R8JHLp3",
        "outputId": "d05c6c49-609c-4e37-c0da-9570f01e83fe"
      },
      "source": [
        "gamma = 0.99\n",
        "env = gym.make('FrozenLake-v0')\n",
        "optimalValue, c, r_v = valueIteration(env,gamma, eps=0.01)\n",
        "print(r_v)\n",
        "print(\"epsilon: 0.01\")\n",
        "print(\"converged at: \", c)\n",
        "startTime = time.time()\n",
        "vi_policy = calculatePolicy(optimalValue, gamma)\n",
        "endTime = time.time()\n",
        "policy_score = evaluatePolicy(env, vi_policy, gamma, 1000)\n",
        "\n",
        "print(\"Best score = %0.2f. Time taken = %4.4f seconds\" % (numpy.mean(policy_score), endTime-startTime))\n",
        "print(\"time taken: \", endTime-startTime )\n",
        "\n",
        "plt.plot(*zip(*r_v))\n",
        "plt.title(\"Delta vs Number of Iterations at eps=0.01\")\n",
        "plt.show()\n"
      ],
      "execution_count": 21,
      "outputs": [
        {
          "output_type": "stream",
          "text": [
            "[(1, 0.3333333333333333), (2, 0.3333333333333334), (3, 0.29629629629629617), (4, 0.2716049382716049), (5, 0.251028806584362), (6, 0.23319615912208502), (7, 0.21810699588477367), (8, 0.20454199055022082), (9, 0.19250114311842692), (10, 0.18144253077952177), (11, 0.17132663832861983), (12, 0.16209513379660212), (13, 0.1541343880756907), (14, 0.14692024974445772), (15, 0.1408981882731557), (16, 0.13571674832096914), (17, 0.13099157231201586), (18, 0.12663375942411736), (19, 0.12256479118050301), (20, 0.11872880608312641), (21, 0.115085036579333), (22, 0.1116015346720669), (23, 0.10825578745039177), (24, 0.10503028813700421), (25, 0.10191259982801526), (26, 0.09889314937769456), (27, 0.09596498157852285), (28, 0.09312270080056706), (29, 0.09036222274800121), (30, 0.08768026544684915), (31, 0.0850741776532935), (32, 0.08254169469030526), (33, 0.08008083799076715), (34, 0.0776898004472022), (35, 0.07536689430476429), (36, 0.0731105000597223), (37, 0.07091904290444706), (38, 0.06914823922683233), (39, 0.06839218835008332), (40, 0.06786376616356371), (41, 0.06714086732555025), (42, 0.06635275535034957), (43, 0.06550655334148558), (44, 0.06461928476958967), (45, 0.06369837731508099), (46, 0.06275031922688168), (47, 0.06177955505274646), (48, 0.0607901921550793), (49, 0.059785637390066704), (50, 0.05876910199555052), (51, 0.05774344773181994), (52, 0.056711351243921015), (53, 0.05567524650813205), (54, 0.054637383861141586), (55, 0.05359981349217513), (56, 0.0525644113225292), (57, 0.05153287900972359), (58, 0.05050675919246839), (59, 0.04948744172135733), (60, 0.04847617519904013), (61, 0.047474075200604204), (62, 0.046482134154115506), (63, 0.045501229805611665), (64, 0.044532133997047474), (65, 0.043575520661496725), (66, 0.04263197363834781), (67, 0.04170199392305385), (68, 0.04078600656794862), (69, 0.03988436710597476), (70, 0.03899736758315964), (71, 0.03812524216596813), (72, 0.03726817236594737), (73, 0.03642629188251689), (74, 0.0355996910918952), (75, 0.03478842119554493), (76, 0.03399249805083748), (77, 0.03321190570129051), (78, 0.03244659962649443), (79, 0.03169650972951654), (80, 0.030961543080011644), (81, 0.0302415864298613), (82, 0.029536508517779225), (83, 0.028846162178148838), (84, 0.028170386268781655), (85, 0.027509007431180343), (86, 0.026861841696215194), (87, 0.026228695947187575), (88, 0.02560936925149626), (89, 0.025003654071350745), (90, 0.02441133736323131), (91, 0.023832201575079814), (92, 0.023266025549609104), (93, 0.022712585341420954), (94, 0.022171654955094766), (95, 0.0216430070108391), (96, 0.021126413343804273), (97, 0.02062164554265955), (98, 0.02012847543262275), (99, 0.019646675507694056), (100, 0.019176019316486048), (101, 0.01871628180566809), (102, 0.01826723962477672), (103, 0.01782867139570321), (104, 0.01740035795009831), (105, 0.016982082537472465), (106, 0.016573631006670198), (107, 0.01617479196311855), (108, 0.015785356904059356), (109, 0.015405120333809919), (110, 0.015033879860890664), (111, 0.014671436278709038), (112, 0.01431759363143037), (113, 0.013972159266323558), (114, 0.01363494387405062), (115, 0.013305761517932169), (116, 0.01298442965342872), (117, 0.01267076913867271), (118, 0.01236460423713659), (119, 0.012065762613092446), (120, 0.011774075320751365), (121, 0.011489376787718442), (122, 0.01121150479338695), (123, 0.01094030044287031), (124, 0.010675608136965664), (125, 0.010417275538666004), (126, 0.010165153536613403), (127, 0.009919096205900146)]\n",
            "epsilon: 0.01\n",
            "converged at:  127\n",
            "Best score = 0.53. Time taken = 0.0048 seconds\n",
            "time taken:  0.004766702651977539\n"
          ],
          "name": "stdout"
        },
        {
          "output_type": "display_data",
          "data": {
            "image/png": "[encoded data removed]",
            "text/plain": [
              "<Figure size 432x288 with 1 Axes>"
            ]
          },
          "metadata": {
            "tags": [],
            "needs_background": "light"
          }
        }
      ]
    },
    {
      "cell_type": "code",
      "metadata": {
        "colab": {
          "base_uri": "https://localhost:8080/",
          "height": 386
        },
        "id": "WyT7_iiOyGWT",
        "outputId": "5a59e5b1-5e9a-45e2-eee5-88000dc6c5d0"
      },
      "source": [
        "gamma = 0.99\n",
        "env = gym.make('FrozenLake-v0')\n",
        "optimalValue, c, r_v = valueIteration(env,gamma, eps=0.1)\n",
        "print(r_v)\n",
        "print(\"epsilon: 0.1\")\n",
        "print(\"converged at: \", c)\n",
        "startTime = time.time()\n",
        "vi_policy = calculatePolicy(optimalValue, gamma)\n",
        "endTime = time.time()\n",
        "policy_score = evaluatePolicy(env, vi_policy, gamma, 1000)\n",
        "\n",
        "print(\"Best score = %0.2f. Time taken = %4.4f seconds\" % (numpy.mean(policy_score), endTime-startTime))\n",
        "print(\"time taken: \", endTime-startTime )\n",
        "\n",
        "plt.plot(*zip(*r_v))\n",
        "plt.title(\"Delta vs Number of Iterations at eps=0.1\")\n",
        "plt.show()\n"
      ],
      "execution_count": 18,
      "outputs": [
        {
          "output_type": "stream",
          "text": [
            "[(1, 0.3333333333333333), (2, 0.3333333333333334), (3, 0.29629629629629617), (4, 0.2716049382716049), (5, 0.251028806584362), (6, 0.23319615912208502), (7, 0.21810699588477367), (8, 0.20454199055022082), (9, 0.19250114311842692), (10, 0.18144253077952177), (11, 0.17132663832861983), (12, 0.16209513379660212), (13, 0.1541343880756907), (14, 0.14692024974445772), (15, 0.1408981882731557), (16, 0.13571674832096914), (17, 0.13099157231201586), (18, 0.12663375942411736), (19, 0.12256479118050301), (20, 0.11872880608312641), (21, 0.115085036579333), (22, 0.1116015346720669), (23, 0.10825578745039177), (24, 0.10503028813700421), (25, 0.10191259982801526), (26, 0.09889314937769456)]\n",
            "epsilon: 0.1\n",
            "converged at:  26\n",
            "Best score = 0.51. Time taken = 0.0004 seconds\n",
            "time taken:  0.00036597251892089844\n"
          ],
          "name": "stdout"
        },
        {
          "output_type": "display_data",
          "data": {
            "image/png": "[encoded data removed]",
            "text/plain": [
              "<Figure size 432x288 with 1 Axes>"
            ]
          },
          "metadata": {
            "tags": [],
            "needs_background": "light"
          }
        }
      ]
    },
    {
      "cell_type": "code",
      "metadata": {
        "colab": {
          "base_uri": "https://localhost:8080/"
        },
        "id": "99Tue-j7hVL3",
        "outputId": "760b92e2-4085-4c85-8fa4-83518a871d89"
      },
      "source": [
        "print_policy(vi_policy)"
      ],
      "execution_count": 10,
      "outputs": [
        {
          "output_type": "execute_result",
          "data": {
            "text/plain": [
              "array([['←', '↑', '←', '↑', '←', '←', '←', '←'],\n",
              "       ['↑', '↓', '←', '←', '←', '→', '↓', '←'],\n",
              "       ['←', '↑', '←', '↑', '←', '←', '←', '←'],\n",
              "       ['↑', '↓', '←', '←', '←', '→', '↓', '←'],\n",
              "       ['←', '↑', '←', '↑', '←', '←', '←', '←'],\n",
              "       ['↑', '↓', '←', '←', '←', '→', '↓', '←'],\n",
              "       ['←', '↑', '←', '↑', '←', '←', '←', '←'],\n",
              "       ['↑', '↓', '←', '←', '←', '→', '↓', '←']], dtype='<U1')"
            ]
          },
          "metadata": {
            "tags": []
          },
          "execution_count": 10
        }
      ]
    },
    {
      "cell_type": "code",
      "metadata": {
        "id": "IQjIR3p0BxRC"
      },
      "source": [
        "#Adapted from https://github.com/danpisq/Value-and-Policy-iteration-OpenAI-FrozenLake/blob/master/policy_iteration.py\n",
        "\n",
        "\n",
        "#Extract the policy given a value-function\n",
        "def extractPolicy(v, gamma=1.0):\n",
        "  policy = numpy.zeros(env.env.nS)\n",
        "  for s in range(env.env.nS):\n",
        "    q_sa = numpy.zeros(env.env.nA)\n",
        "    for a in range(env.env.nA):\n",
        "      q_sa[a] = sum([p * (r + gamma * v[s_]) for p, s_, r, _ in env.env.P[s][a]])\n",
        "      policy[s] = numpy.argmax(q_sa)\n",
        "  return policy\n",
        "      \n",
        "#Iteratively calculates value-function under policy   \n",
        "def CalcPolicyValue(env, policy, gamma=1.0, eps = 0.001):\n",
        "  value = numpy.zeros(env.env.nS)\n",
        "  \n",
        "  while True:\n",
        "    previousValue = numpy.copy(value)\n",
        "    for states in range(env.env.nS):\n",
        "      policy_a = policy[states]\n",
        "      value[states] = sum([p * (r + gamma * previousValue[s_]) for p,s_, r, _ in env.env.P[states][policy_a]])\n",
        "    if (numpy.sum((numpy.fabs(previousValue - value))) <= eps):\n",
        "      break\n",
        "  return value\n",
        "  \n",
        "  \n",
        "#Policy Iteration algorithm\n",
        "def policyIteration(env, gamma=1.0, eps = 0.001):\n",
        "  policy = numpy.random.choice(env.env.nA, size=(env.env.nS))\n",
        "  maxIterations = 1000\n",
        "  gamma = 0.99\n",
        "  r_v = []\n",
        "  for i in range(maxIterations):\n",
        "    oldPolicyValue = CalcPolicyValue(env, policy, gamma, eps)\n",
        "    newPolicy = extractPolicy(oldPolicyValue, gamma)\n",
        "    r_v.append((i+1, numpy.sum(CalcPolicyValue(env, newPolicy, gamma)) - numpy.sum(oldPolicyValue)))\n",
        "    if (numpy.all(policy == newPolicy)):\n",
        "      break\n",
        "    policy = newPolicy\n",
        "  return policy, i+1, r_v"
      ],
      "execution_count": 11,
      "outputs": []
    },
    {
      "cell_type": "code",
      "metadata": {
        "colab": {
          "base_uri": "https://localhost:8080/",
          "height": 962
        },
        "id": "nycgrG_39NKO",
        "outputId": "76c786cf-63d9-4610-ef38-72ec11069bf8"
      },
      "source": [
        "for eps in [0.001, 0.01, 0.1]:\n",
        "  env = gym.make('FrozenLake-v0')\n",
        "  ## Policy search\n",
        "  startTime = time.time()\n",
        "  pi_policy, c, r_v = policyIteration(env, gamma, eps)\n",
        "  print(\"converged at: \", c)\n",
        "  endTime = time.time()\n",
        "  scores = evaluatePolicy(env, pi_policy, gamma)\n",
        "\n",
        "  print(\"Best score = %0.2f. Time taken = %4.4f seconds\" %(numpy.max(scores), endTime-startTime))\n",
        "  plt.title(\"Delta vs Number of Iterations at eps=\"+str(eps))\n",
        "\n",
        "  print(scores)\n",
        "  plt.plot(*zip(*r_v))\n",
        "  plt.show()\n"
      ],
      "execution_count": 29,
      "outputs": [
        {
          "output_type": "stream",
          "text": [
            "converged at:  7\n",
            "Best score = 0.48. Time taken = 0.1216 seconds\n",
            "0.48027475812328274\n"
          ],
          "name": "stdout"
        },
        {
          "output_type": "display_data",
          "data": {
            "image/png": "[encoded data removed]",
            "text/plain": [
              "<Figure size 432x288 with 1 Axes>"
            ]
          },
          "metadata": {
            "tags": [],
            "needs_background": "light"
          }
        },
        {
          "output_type": "stream",
          "text": [
            "converged at:  7\n",
            "Best score = 0.49. Time taken = 0.0681 seconds\n",
            "0.4944947340427853\n"
          ],
          "name": "stdout"
        },
        {
          "output_type": "display_data",
          "data": {
            "image/png": "[encoded data removed]",
            "text/plain": [
              "<Figure size 432x288 with 1 Axes>"
            ]
          },
          "metadata": {
            "tags": [],
            "needs_background": "light"
          }
        },
        {
          "output_type": "stream",
          "text": [
            "converged at:  3\n",
            "Best score = 0.47. Time taken = 0.0304 seconds\n",
            "0.4694818937090782\n"
          ],
          "name": "stdout"
        },
        {
          "output_type": "display_data",
          "data": {
            "image/png": "[encoded data removed]",
            "text/plain": [
              "<Figure size 432x288 with 1 Axes>"
            ]
          },
          "metadata": {
            "tags": [],
            "needs_background": "light"
          }
        }
      ]
    },
    {
      "cell_type": "code",
      "metadata": {
        "colab": {
          "base_uri": "https://localhost:8080/"
        },
        "id": "zxhTCkcWoZ5s",
        "outputId": "9e7c72c4-4a21-40c5-a0da-f082a464cbb3"
      },
      "source": [
        "print(pi_policy)"
      ],
      "execution_count": 13,
      "outputs": [
        {
          "output_type": "stream",
          "text": [
            "[0. 3. 0. 3. 0. 0. 0. 0. 3. 1. 0. 0. 0. 2. 1. 0.]\n"
          ],
          "name": "stdout"
        }
      ]
    },
    {
      "cell_type": "code",
      "metadata": {
        "colab": {
          "base_uri": "https://localhost:8080/",
          "height": 269
        },
        "id": "_yd1_tbFocmz",
        "outputId": "83e65348-8eaf-4a80-e872-bed9173348f2"
      },
      "source": [
        "see_policy(4, pi_policy)"
      ],
      "execution_count": 14,
      "outputs": [
        {
          "output_type": "display_data",
          "data": {
            "image/png": "[encoded data removed]",
            "text/plain": [
              "<Figure size 432x288 with 1 Axes>"
            ]
          },
          "metadata": {
            "tags": [],
            "needs_background": "light"
          }
        }
      ]
    },
    {
      "cell_type": "code",
      "metadata": {
        "colab": {
          "base_uri": "https://localhost:8080/",
          "height": 269
        },
        "id": "U4HP8YP6ogjV",
        "outputId": "d0f9f565-8d36-415a-80ff-0a8ccccab619"
      },
      "source": [
        "see_policy(4, vi_policy)"
      ],
      "execution_count": 15,
      "outputs": [
        {
          "output_type": "display_data",
          "data": {
            "image/png": "[encoded data removed]",
            "text/plain": [
              "<Figure size 432x288 with 1 Axes>"
            ]
          },
          "metadata": {
            "tags": [],
            "needs_background": "light"
          }
        }
      ]
    },
    {
      "cell_type": "code",
      "metadata": {
        "colab": {
          "base_uri": "https://localhost:8080/"
        },
        "id": "KapWAOHNhe5h",
        "outputId": "4698e575-c699-4f92-ef31-0f9a52d62593"
      },
      "source": [
        "print_policy(pi_policy)"
      ],
      "execution_count": 16,
      "outputs": [
        {
          "output_type": "execute_result",
          "data": {
            "text/plain": [
              "array([['←', '↑', '←', '↑', '←', '←', '←', '←'],\n",
              "       ['↑', '↓', '←', '←', '←', '→', '↓', '←'],\n",
              "       ['←', '↑', '←', '↑', '←', '←', '←', '←'],\n",
              "       ['↑', '↓', '←', '←', '←', '→', '↓', '←'],\n",
              "       ['←', '↑', '←', '↑', '←', '←', '←', '←'],\n",
              "       ['↑', '↓', '←', '←', '←', '→', '↓', '←'],\n",
              "       ['←', '↑', '←', '↑', '←', '←', '←', '←'],\n",
              "       ['↑', '↓', '←', '←', '←', '→', '↓', '←']], dtype='<U1')"
            ]
          },
          "metadata": {
            "tags": []
          },
          "execution_count": 16
        }
      ]
    },
    {
      "cell_type": "code",
      "metadata": {
        "colab": {
          "base_uri": "https://localhost:8080/"
        },
        "id": "VE-bIwoniPst",
        "outputId": "432f25c4-3652-4d1f-aef9-f691f72e3a19"
      },
      "source": [
        "pi_policy == vi_policy"
      ],
      "execution_count": 17,
      "outputs": [
        {
          "output_type": "execute_result",
          "data": {
            "text/plain": [
              "array([ True,  True,  True,  True,  True,  True,  True,  True,  True,\n",
              "        True,  True,  True,  True,  True,  True,  True])"
            ]
          },
          "metadata": {
            "tags": []
          },
          "execution_count": 17
        }
      ]
    },
    {
      "cell_type": "code",
      "metadata": {
        "id": "PNQFGz31n6xU"
      },
      "source": [
        "\n",
        "from hiive.mdptoolbox.mdp import ValueIteration, PolicyIteration, QLearning\n",
        "from hiive.mdptoolbox.example import forest"
      ],
      "execution_count": 34,
      "outputs": []
    },
    {
      "cell_type": "code",
      "metadata": {
        "id": "0OMAOnXVJ-0I"
      },
      "source": [
        ""
      ],
      "execution_count": 35,
      "outputs": []
    },
    {
      "cell_type": "code",
      "metadata": {
        "colab": {
          "base_uri": "https://localhost:8080/",
          "height": 142
        },
        "id": "ZEgsP_X8KBGZ",
        "outputId": "4ac7df35-930a-4709-e915-f099d17bfe92"
      },
      "source": [
        "P, R = forest(S=500, r1=100, r2= 15, p=0.01)\n",
        "results = []\n",
        "for eps in [0.001, 0.01, 0.1]:\n",
        "  vi_policy = ValueIteration(P, R, gamma=0.99, epsilon=eps)\n",
        "  vi_policy.run()\n",
        "  results.append([eps, vi_policy.time, vi_policy.iter])\n",
        "pd.DataFrame(results, columns=['Value of epsilon', 'Time to Converge', 'Converge at'])"
      ],
      "execution_count": 51,
      "outputs": [
        {
          "output_type": "execute_result",
          "data": {
            "text/html": [
              "<div>\n",
              "<style scoped>\n",
              "    .dataframe tbody tr th:only-of-type {\n",
              "        vertical-align: middle;\n",
              "    }\n",
              "\n",
              "    .dataframe tbody tr th {\n",
              "        vertical-align: top;\n",
              "    }\n",
              "\n",
              "    .dataframe thead th {\n",
              "        text-align: right;\n",
              "    }\n",
              "</style>\n",
              "<table border=\"1\" class=\"dataframe\">\n",
              "  <thead>\n",
              "    <tr style=\"text-align: right;\">\n",
              "      <th></th>\n",
              "      <th>Value of epsilon</th>\n",
              "      <th>Time to Converge</th>\n",
              "      <th>Converge at</th>\n",
              "    </tr>\n",
              "  </thead>\n",
              "  <tbody>\n",
              "    <tr>\n",
              "      <th>0</th>\n",
              "      <td>0.001</td>\n",
              "      <td>0.271776</td>\n",
              "      <td>802</td>\n",
              "    </tr>\n",
              "    <tr>\n",
              "      <th>1</th>\n",
              "      <td>0.010</td>\n",
              "      <td>0.230738</td>\n",
              "      <td>687</td>\n",
              "    </tr>\n",
              "    <tr>\n",
              "      <th>2</th>\n",
              "      <td>0.100</td>\n",
              "      <td>0.201055</td>\n",
              "      <td>573</td>\n",
              "    </tr>\n",
              "  </tbody>\n",
              "</table>\n",
              "</div>"
            ],
            "text/plain": [
              "   Value of epsilon  Time to Converge  Converge at\n",
              "0             0.001          0.271776          802\n",
              "1             0.010          0.230738          687\n",
              "2             0.100          0.201055          573"
            ]
          },
          "metadata": {
            "tags": []
          },
          "execution_count": 51
        }
      ]
    },
    {
      "cell_type": "code",
      "metadata": {
        "colab": {
          "base_uri": "https://localhost:8080/",
          "height": 142
        },
        "id": "pJ7_ENxZNTVj",
        "outputId": "2965e433-b860-4f2b-8423-ee2d072160ad"
      },
      "source": [
        "P, R = forest(S=100, r1=25, r2= 5, p=0.1)\n",
        "results = []\n",
        "for eps in [0.001, 0.01, 0.1]:\n",
        "  vi_policy = ValueIteration(P, R, gamma=0.99, epsilon=eps)\n",
        "  vi_policy.run()\n",
        "  results.append([eps, vi_policy.time, vi_policy.iter])\n",
        "pd.DataFrame(results, columns=['Value of epsilon', 'Time to Converge', 'Converge at'])"
      ],
      "execution_count": 50,
      "outputs": [
        {
          "output_type": "execute_result",
          "data": {
            "text/html": [
              "<div>\n",
              "<style scoped>\n",
              "    .dataframe tbody tr th:only-of-type {\n",
              "        vertical-align: middle;\n",
              "    }\n",
              "\n",
              "    .dataframe tbody tr th {\n",
              "        vertical-align: top;\n",
              "    }\n",
              "\n",
              "    .dataframe thead th {\n",
              "        text-align: right;\n",
              "    }\n",
              "</style>\n",
              "<table border=\"1\" class=\"dataframe\">\n",
              "  <thead>\n",
              "    <tr style=\"text-align: right;\">\n",
              "      <th></th>\n",
              "      <th>Value of epsilon</th>\n",
              "      <th>Time to Converge</th>\n",
              "      <th>Converge at</th>\n",
              "    </tr>\n",
              "  </thead>\n",
              "  <tbody>\n",
              "    <tr>\n",
              "      <th>0</th>\n",
              "      <td>0.001</td>\n",
              "      <td>0.016491</td>\n",
              "      <td>128</td>\n",
              "    </tr>\n",
              "    <tr>\n",
              "      <th>1</th>\n",
              "      <td>0.010</td>\n",
              "      <td>0.012600</td>\n",
              "      <td>108</td>\n",
              "    </tr>\n",
              "    <tr>\n",
              "      <th>2</th>\n",
              "      <td>0.100</td>\n",
              "      <td>0.008585</td>\n",
              "      <td>88</td>\n",
              "    </tr>\n",
              "  </tbody>\n",
              "</table>\n",
              "</div>"
            ],
            "text/plain": [
              "   Value of epsilon  Time to Converge  Converge at\n",
              "0             0.001          0.016491          128\n",
              "1             0.010          0.012600          108\n",
              "2             0.100          0.008585           88"
            ]
          },
          "metadata": {
            "tags": []
          },
          "execution_count": 50
        }
      ]
    },
    {
      "cell_type": "code",
      "metadata": {
        "colab": {
          "base_uri": "https://localhost:8080/",
          "height": 142
        },
        "id": "XjZHMdrQMCB9",
        "outputId": "38dbc307-96d2-4797-b53e-3fd6fc85bce4"
      },
      "source": [
        "P, R = forest(S=500, r1=100, r2= 15, p=0.01)\n",
        "results = []\n",
        "for eps in [0.001, 0.01, 0.1]:\n",
        "  pi_policy = PolicyIteration(P, R, gamma=0.99)\n",
        "  pi_policy.run()\n",
        "  results.append([eps, pi_policy.time, pi_policy.iter])\n",
        "pd.DataFrame(results, columns=['Value of epsilon', 'Time to Converge', 'Converge at'])"
      ],
      "execution_count": 49,
      "outputs": [
        {
          "output_type": "execute_result",
          "data": {
            "text/html": [
              "<div>\n",
              "<style scoped>\n",
              "    .dataframe tbody tr th:only-of-type {\n",
              "        vertical-align: middle;\n",
              "    }\n",
              "\n",
              "    .dataframe tbody tr th {\n",
              "        vertical-align: top;\n",
              "    }\n",
              "\n",
              "    .dataframe thead th {\n",
              "        text-align: right;\n",
              "    }\n",
              "</style>\n",
              "<table border=\"1\" class=\"dataframe\">\n",
              "  <thead>\n",
              "    <tr style=\"text-align: right;\">\n",
              "      <th></th>\n",
              "      <th>Value of epsilon</th>\n",
              "      <th>Time to Converge</th>\n",
              "      <th>Converge at</th>\n",
              "    </tr>\n",
              "  </thead>\n",
              "  <tbody>\n",
              "    <tr>\n",
              "      <th>0</th>\n",
              "      <td>0.001</td>\n",
              "      <td>3.186224</td>\n",
              "      <td>264</td>\n",
              "    </tr>\n",
              "    <tr>\n",
              "      <th>1</th>\n",
              "      <td>0.010</td>\n",
              "      <td>3.159570</td>\n",
              "      <td>264</td>\n",
              "    </tr>\n",
              "    <tr>\n",
              "      <th>2</th>\n",
              "      <td>0.100</td>\n",
              "      <td>3.158750</td>\n",
              "      <td>264</td>\n",
              "    </tr>\n",
              "  </tbody>\n",
              "</table>\n",
              "</div>"
            ],
            "text/plain": [
              "   Value of epsilon  Time to Converge  Converge at\n",
              "0             0.001          3.186224          264\n",
              "1             0.010          3.159570          264\n",
              "2             0.100          3.158750          264"
            ]
          },
          "metadata": {
            "tags": []
          },
          "execution_count": 49
        }
      ]
    },
    {
      "cell_type": "code",
      "metadata": {
        "id": "Zbf3K9s8MYV1"
      },
      "source": [
        ""
      ],
      "execution_count": null,
      "outputs": []
    }
  ]
}